{
 "cells": [
  {
   "cell_type": "markdown",
   "id": "305a972e-3a52-4cd8-aff1-55bba4b09197",
   "metadata": {},
   "source": [
    "# Graded test module 6"
   ]
  },
  {
   "cell_type": "markdown",
   "id": "7dea997c-626a-468a-b8c7-bab913770ad6",
   "metadata": {},
   "source": [
    "### In this notebook we will list some tools and examples of the work of a data scientist"
   ]
  },
  {
   "cell_type": "markdown",
   "id": "9d1a8d10-8b82-4967-bd49-78ef54807bb9",
   "metadata": {},
   "source": [
    "__Objectives:__\n",
    "- Esempio operazione matematica\n",
    "- Esempio di alcuni linguaggi di programmazione di un Data Scienteist\n",
    "- Esempio di alcune librerie utilizzate da un Data Scienteist"
   ]
  },
  {
   "cell_type": "markdown",
   "id": "de76db5c-244c-4124-b36d-dd590ffcd10a",
   "metadata": {},
   "source": [
    "Some of the popular languages that Data Scienteist use are:\n",
    "1. Python\n",
    "2. R\n",
    "3. SQL"
   ]
  },
  {
   "cell_type": "markdown",
   "id": "e48f7fbd-544b-4ec6-b0ec-d3287ce5e96c",
   "metadata": {},
   "source": [
    "Some of the commonly used libraries used by Data Science include:\n",
    "1. ggplot2\n",
    "2. pandas\n",
    "3. caret"
   ]
  },
  {
   "attachments": {},
   "cell_type": "markdown",
   "id": "a06e4465-8962-4eba-be5d-14bc4804a6f3",
   "metadata": {},
   "source": [
    "|   Data Science Tools   |\n",
    "|------------------------|\n",
    "|        RStudio         |\n",
    "|        VS Code         |\n",
    "|    Jupyter Notebook    |"
   ]
  },
  {
   "cell_type": "markdown",
   "id": "f924b07b-34b2-4c35-b9cc-b78d4a2697c6",
   "metadata": {},
   "source": [
    "## Below are a few examples of evaluating arithmetic expressions in Python"
   ]
  },
  {
   "cell_type": "markdown",
   "id": "25054fcb-b349-48a3-8370-2010d75a2fbe",
   "metadata": {},
   "source": [
    "This a simple arithmetic expression to mutiply then add integers"
   ]
  },
  {
   "cell_type": "code",
   "execution_count": 4,
   "id": "f60a7be6-515e-40c8-af31-48c6cce4d6ba",
   "metadata": {},
   "outputs": [
    {
     "data": {
      "text/plain": [
       "36"
      ]
     },
     "execution_count": 4,
     "metadata": {},
     "output_type": "execute_result"
    }
   ],
   "source": [
    "(8*3)+12"
   ]
  },
  {
   "cell_type": "markdown",
   "id": "e8219867-9752-4c57-8397-05101826d7db",
   "metadata": {},
   "source": [
    "This will convert 240 minutes to hours by diving by 60"
   ]
  },
  {
   "cell_type": "code",
   "execution_count": 5,
   "id": "58a06d97-dd83-41f1-a798-7cd3f5641824",
   "metadata": {},
   "outputs": [
    {
     "name": "stdout",
     "output_type": "stream",
     "text": [
      "4.0\n"
     ]
    }
   ],
   "source": [
    "minutes=240\n",
    "hours=minutes/60\n",
    "print(hours)"
   ]
  },
  {
   "attachments": {},
   "cell_type": "markdown",
   "id": "9418f035-e240-4d52-80a6-79da1f4bc296",
   "metadata": {},
   "source": [
    "## Author\n",
    "Francesco Di Bisceglie"
   ]
  },
  {
   "cell_type": "code",
   "execution_count": null,
   "id": "23b882a2-498e-4b62-825f-2645ad27d607",
   "metadata": {},
   "outputs": [],
   "source": []
  }
 ],
 "metadata": {
  "kernelspec": {
   "display_name": "Python 3 (ipykernel)",
   "language": "python",
   "name": "python3"
  },
  "language_info": {
   "codemirror_mode": {
    "name": "ipython",
    "version": 3
   },
   "file_extension": ".py",
   "mimetype": "text/x-python",
   "name": "python",
   "nbconvert_exporter": "python",
   "pygments_lexer": "ipython3",
   "version": "3.12.9"
  }
 },
 "nbformat": 4,
 "nbformat_minor": 5
}
